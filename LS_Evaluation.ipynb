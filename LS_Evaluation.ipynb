{
  "cells": [
    {
      "cell_type": "markdown",
      "metadata": {
        "id": "ZrWXH4sOkeqQ"
      },
      "source": [
        "**LIKENESS SCORE**"
      ]
    },
    {
      "cell_type": "markdown",
      "metadata": {
        "id": "c_RJQIgagZ2W"
      },
      "source": [
        "This is an example of computing the Likeness Score: LS on datasets of real images and generated images by GANs.\n",
        "It includes codes to compute the *2-class* distance-based separability index (DSI). There are two versions (CPU and GPU) of DSI.\n",
        "\n",
        "Inputs:             Two folders have real images and generated images\n",
        "\n",
        "Related paper:      A Novel Measure to Evaluate Generative Adversarial Networks Based on Direct Analysis of Generated Images\n",
        "                    [In press] Neural Computing and Applications, 2021\n",
        "                    https://arxiv.org/abs/2002.12345"
      ]
    },
    {
      "cell_type": "code",
      "execution_count": null,
      "metadata": {
        "id": "KeQJ-Qp0gWB7"
      },
      "outputs": [],
      "source": [
        "# import packages\n",
        "\n",
        "import glob\n",
        "import numpy as np\n",
        "import scipy.misc\n",
        "from scipy.spatial.distance import minkowski\n",
        "from scipy.stats import ks_2samp\n",
        "import time,imageio, os\n",
        "import torch\n",
        "from PIL import Image\n",
        "from tqdm import tqdm\n",
        "import cv2\n",
        "\n",
        "from google.colab import drive, auth\n",
        "import gspread\n",
        "from google.auth import default"
      ]
    },
    {
      "cell_type": "code",
      "execution_count": null,
      "metadata": {
        "colab": {
          "base_uri": "https://localhost:8080/"
        },
        "id": "slTLMnA1gkHj",
        "outputId": "249b64c1-0702-4bb7-8b5a-a9234107fc01"
      },
      "outputs": [
        {
          "output_type": "stream",
          "name": "stdout",
          "text": [
            "Mounted at /content/gdrive\n"
          ]
        }
      ],
      "source": [
        "# Authentification\n",
        "drive.mount('/content/gdrive', force_remount=True)"
      ]
    },
    {
      "cell_type": "code",
      "execution_count": null,
      "metadata": {
        "colab": {
          "base_uri": "https://localhost:8080/"
        },
        "id": "Ni3ZLdDPgxM5",
        "outputId": "423e511c-9d98-4a29-da30-ef763c6377d9"
      },
      "outputs": [
        {
          "output_type": "stream",
          "name": "stdout",
          "text": [
            "Mounted at /content/drive\n"
          ]
        }
      ],
      "source": [
        "# link notebook to google drive\n",
        "from google.colab import drive\n",
        "drive.mount('/content/drive')"
      ]
    },
    {
      "cell_type": "code",
      "execution_count": null,
      "metadata": {
        "id": "_uYT1x-Fg4rI"
      },
      "outputs": [],
      "source": [
        "# process generated input images\n",
        "def get_gen_image_vector(filename):\n",
        "    # im = imageio.imread(filename, pilmode = 'RGB')\n",
        "    # using Image class instead\n",
        "    im = Image.open(filename)\n",
        "    # resize all images to (128, 128)\n",
        "    resized_image = im.resize((128, 128))\n",
        "    # convert image to numpy array\n",
        "    image_array = np.array(resized_image)\n",
        "    # DEBUGGING: shape of image array\n",
        "    print(image_array.shape)\n",
        "    # ISSUE: generated images have 1 channel, but real images have 3 channels bc they are RGB\n",
        "    # Solution: convert all images to 1 channel grayscale\n",
        "\n",
        "\n",
        "    return np.float32(np.ndarray.flatten(image_array))/255"
      ]
    },
    {
      "cell_type": "code",
      "execution_count": null,
      "metadata": {
        "id": "vdxKimZTHD4r"
      },
      "outputs": [],
      "source": [
        "# process real input images\n",
        "def get_real_image_vector(filename):\n",
        "    # im = imageio.imread(filename, pilmode = 'RGB')\n",
        "    # using Image class instead\n",
        "    im = Image.open(filename)\n",
        "    # resize all images to (128, 128)\n",
        "    resized_image = im.resize((128, 128))\n",
        "    # convert image to numpy array\n",
        "    image_array = np.array(resized_image)\n",
        "    # convert RGB image to grayscale image, needs an array input\n",
        "    gray_image = cv2.cvtColor(image_array, cv2.COLOR_BGR2GRAY)\n",
        "    # DEBUGGING: shape of image array\n",
        "    print(gray_image.shape)\n",
        "\n",
        "    return np.float32(np.ndarray.flatten(gray_image))/255"
      ]
    },
    {
      "cell_type": "code",
      "execution_count": null,
      "metadata": {
        "id": "IpYwc3GLhAUj"
      },
      "outputs": [],
      "source": [
        "# CPU Version\n",
        "def dists(data):  # compute ICD\n",
        "    num = data.shape[0]\n",
        "    data = data.reshape((num, -1))\n",
        "    dist = []\n",
        "    for i in tqdm(range(0,num-1)):\n",
        "        for j in range(i+1,num):\n",
        "            dist.append(minkowski(data[i],data[j]))\n",
        "\n",
        "    return np.array(dist)\n",
        "\n",
        "def dist_btw(a,b):  # compute BCD\n",
        "    a = a.reshape((a.shape[0], -1))\n",
        "    b = b.reshape((b.shape[0], -1))\n",
        "    dist = []\n",
        "    for i in tqdm(range(a.shape[0])):\n",
        "        for j in range(b.shape[0]):\n",
        "            dist.append(minkowski(a[i],b[j]))\n",
        "\n",
        "    return np.array(dist)\n",
        "\n",
        "\n",
        "def LS(real,gen):  # KS distance btw ICD and BCD\n",
        "    dist_real = dists(real)  # ICD 1\n",
        "    dist_gen = dists(gen)  # ICD 2\n",
        "    distbtw = dist_btw(real, gen)  # BCD\n",
        "\n",
        "    D_Sep_1, _ = ks_2samp(dist_real, distbtw)\n",
        "    D_Sep_2, _ = ks_2samp(dist_gen, distbtw)\n",
        "\n",
        "    return 1- np.max([D_Sep_1, D_Sep_2])  # LS=1-DSI"
      ]
    },
    {
      "cell_type": "code",
      "execution_count": null,
      "metadata": {
        "id": "M7KYlhM4hF2l"
      },
      "outputs": [],
      "source": [
        "# don't run for now\n",
        "# GPU Version\n",
        "def gpu_LS(real,gen):\n",
        "    # to torch tensors\n",
        "    t_gen = torch.from_numpy(gen)\n",
        "    t_real = torch.from_numpy(real)\n",
        "\n",
        "    dist_real = torch.cdist(t_real, t_real)  # ICD 1\n",
        "    dist_real = torch.flatten(torch.tril(dist_real, diagonal=-1))  # remove repeats\n",
        "    dist_real = dist_real[dist_real.nonzero()].flatten()  # remove distance=0 for distances btw same data points\n",
        "\n",
        "    dist_gen = torch.cdist(t_gen, t_gen)  # ICD 2\n",
        "    dist_gen = torch.flatten(torch.tril(dist_gen, diagonal=-1))  # remove repeats\n",
        "    dist_gen = dist_gen[dist_gen.nonzero()].flatten()  # remove distance=0 for distances btw same data points\n",
        "\n",
        "    distbtw = torch.cdist(t_gen, t_real)  # BCD\n",
        "    distbtw = torch.flatten(distbtw)\n",
        "\n",
        "    D_Sep_1, _ = ks_2samp(dist_real, distbtw)\n",
        "    D_Sep_2, _ = ks_2samp(dist_gen, distbtw)\n",
        "\n",
        "    return 1- np.max([D_Sep_1, D_Sep_2])  # LS=1-DSI"
      ]
    },
    {
      "cell_type": "code",
      "execution_count": null,
      "metadata": {
        "id": "3Ct7XalcjL_e"
      },
      "outputs": [],
      "source": [
        "# don't run for now\n",
        "# main function\n",
        "\"\"\"\n",
        "if __name__ == '__main__':\n",
        "\n",
        "    AbsLoc = '/content/gdrive/MyDrive/Leave/UW/CSE455/FinalProject/Evaluation'\n",
        "\n",
        "    filenames_1 = glob.glob(os.path.join(AbsLoc, 'Generated/*.png'))\n",
        "    gen = np.array([get_image_vector(filename) for filename in filenames_1])\n",
        "\n",
        "    filenames_2 = glob.glob(os.path.join(AbsLoc, 'Real/*.png'))\n",
        "    real = np.array([get_image_vector(filename) for filename in filenames_2])\n",
        "\n",
        "    print('real #:   '+str(len(real)))\n",
        "    print('gen #:   '+str(len(gen)))\n",
        "\n",
        "    print('\\n', 'LS= ', LS(real, gen))  # CPU ver.\n",
        "    # print('\\n', 'LS= ', gpu_LS(real, gen))  # GPU ver.\n",
        "  \"\"\""
      ]
    },
    {
      "cell_type": "code",
      "execution_count": null,
      "metadata": {
        "colab": {
          "base_uri": "https://localhost:8080/"
        },
        "id": "iuddQ2nIK5pQ",
        "outputId": "39f12f8a-1ca4-4a6c-dc89-cf467c5e41d0"
      },
      "outputs": [
        {
          "output_type": "stream",
          "name": "stdout",
          "text": [
            "Mounted at /content/gdrive\n"
          ]
        }
      ],
      "source": [
        "# force remount again\n",
        "drive.mount('/content/gdrive', force_remount=True)"
      ]
    },
    {
      "cell_type": "code",
      "execution_count": null,
      "metadata": {
        "colab": {
          "base_uri": "https://localhost:8080/"
        },
        "id": "T-t68g_Lmn7m",
        "outputId": "71304362-91aa-44bd-fe6a-c930b506f9ad"
      },
      "outputs": [
        {
          "output_type": "stream",
          "name": "stdout",
          "text": [
            "/content/gdrive/MyDrive/Leave/UW/CSE455/FinalProject/Evaluation/generated_images_vae_10000\n",
            "(128, 128)\n",
            "(128, 128)\n",
            "(128, 128)\n",
            "(128, 128)\n",
            "(128, 128)\n",
            "(128, 128)\n",
            "(128, 128)\n",
            "(128, 128)\n",
            "(128, 128)\n",
            "(128, 128)\n",
            "/content/gdrive/MyDrive/Leave/UW/CSE455/FinalProject/Evaluation/Real\n",
            "(128, 128)\n",
            "(128, 128)\n",
            "(128, 128)\n",
            "(128, 128)\n",
            "(128, 128)\n",
            "(128, 128)\n",
            "(128, 128)\n",
            "(128, 128)\n",
            "(128, 128)\n",
            "(128, 128)\n",
            "real #:   10\n",
            "gen #:   10\n"
          ]
        },
        {
          "output_type": "stream",
          "name": "stderr",
          "text": [
            "100%|██████████| 9/9 [00:00<00:00, 1587.62it/s]\n",
            "100%|██████████| 9/9 [00:00<00:00, 3895.24it/s]\n",
            "100%|██████████| 10/10 [00:00<00:00, 2333.28it/s]"
          ]
        },
        {
          "output_type": "stream",
          "name": "stdout",
          "text": [
            "\n",
            " LS=  0.4588888888888889\n"
          ]
        },
        {
          "output_type": "stream",
          "name": "stderr",
          "text": [
            "\n"
          ]
        }
      ],
      "source": [
        "# run this main function instead\n",
        "\n",
        "# set path to Evaluation Generation Dataset\n",
        "# %cd /content/gdrive/MyDrive/Leave/UW/CSE455/FinalProject/Evaluation/Generated_GAN/\n",
        "%cd /content/gdrive/MyDrive/Leave/UW/CSE455/FinalProject/Evaluation/generated_images_vae_10000/\n",
        "generated_files = glob.glob('*.png')\n",
        "# filenames_1 = glob.glob(os.path.join(AbsLoc, 'Generated/*.png'))\n",
        "# GAN files are RGB so they need to be converted to grayscale\n",
        "# gen = np.array([get_real_image_vector(filename) for filename in generated_files])\n",
        "gen = np.array([get_gen_image_vector(filename) for filename in generated_files])\n",
        "\n",
        "# set path to Evaluation Real Dataset\n",
        "%cd /content/gdrive/MyDrive/Leave/UW/CSE455/FinalProject/Evaluation/Real/\n",
        "real_files = glob.glob('*.jpg')\n",
        "# edit all of the real images so they have the same dimensions\n",
        "\n",
        "# filenames_2 = glob.glob(os.path.join(AbsLoc, 'Real/*.png'))\n",
        "real = np.array([get_real_image_vector(filename) for filename in real_files])\n",
        "\n",
        "print('real #:   '+str(len(real)))\n",
        "print('gen #:   '+str(len(gen)))\n",
        "\n",
        "print('\\n', 'LS= ', LS(real, gen))  # CPU ver.\n",
        "# print('\\n', 'LS= ', gpu_LS(real, gen))  # GPU ver."
      ]
    }
  ],
  "metadata": {
    "colab": {
      "provenance": []
    },
    "kernelspec": {
      "display_name": "Python 3",
      "name": "python3"
    },
    "language_info": {
      "name": "python"
    }
  },
  "nbformat": 4,
  "nbformat_minor": 0
}